{
 "cells": [
  {
   "cell_type": "code",
   "execution_count": null,
   "id": "1ba4706a-62c2-495f-86b1-db10ab83ab16",
   "metadata": {},
   "outputs": [],
   "source": [
    "#Importamos las bibliotecas necesarias\n",
    "import tensorflow as tf\n",
    "from tensorflow import keras\n",
    "from keras.models import Sequential\n",
    "from keras.layers import Conv2D, MaxPooling2D, Dense, Flatten\n",
    " \n",
    "#Cargamos la base de datos y creamos los tres tensores\n",
    "(entrena_x, entrena_y), (test_x, test_y) = keras.datasets.mnist.load_data()\n",
    "val_x = test_x[:5000]\n",
    "val_y = test_y[:5000]\n",
    "comp_x = test_x[5000:]\n",
    "comp_y = test_y[5000:]\n",
    " \n",
    "#Construcción del modelo LeNet5\n",
    "lenet5 = Sequential()\n",
    "lenet5.add(Conv2D(input_shape=(28,28,1), filters=6, kernel_size=(5,5), strides=1, padding='same', activation='tanh'))\n",
    "lenet5.add(MaxPooling2D(pool_size=(2,2)))\n",
    "lenet5.add(Conv2D(input_shape=(14,14,1), filters=16 , kernel_size=(5,5), strides=1, padding='same', activation='tanh'))\n",
    "lenet5.add(MaxPooling2D(pool_size=(2,2)))\n",
    "lenet5.add(Flatten())\n",
    "lenet5.add(Dense(120, activation='tanh'))\n",
    "lenet5.add(Dense(84, activation='tanh'))\n",
    "lenet5.add(Dense(10, activation='softmax'))\n",
    "\n",
    "#Establecemos los parámetros de aprendizaje\n",
    "lenet5.compile(optimizer='adam', loss='sparse_categorical_crossentropy', metrics=['accuracy'])\n",
    "\n",
    "#Entrenamos el modelo\n",
    "lenet5.fit(entrena_x, entrena_y, epochs=10, validation_data=(val_x, val_y))\n",
    "\n",
    "#Evaluación de la red\n",
    "lenet5.evaluate(comp_x, comp_y)\n",
    "\n",
    "#Guardamos el modelo\n",
    "lenet5.save('C:/Users/Modelos/lenet5')"
   ]
  }
 ],
 "metadata": {
  "kernelspec": {
   "display_name": "Python 3 (ipykernel)",
   "language": "python",
   "name": "python3"
  },
  "language_info": {
   "codemirror_mode": {
    "name": "ipython",
    "version": 3
   },
   "file_extension": ".py",
   "mimetype": "text/x-python",
   "name": "python",
   "nbconvert_exporter": "python",
   "pygments_lexer": "ipython3",
   "version": "3.9.13"
  }
 },
 "nbformat": 4,
 "nbformat_minor": 5
}
